{
 "cells": [
  {
   "cell_type": "code",
   "execution_count": 10,
   "metadata": {
    "collapsed": true
   },
   "outputs": [],
   "source": [
    "import networkx as nx\n",
    "import numpy as np\n",
    "import math\n",
    "import matplotlib.pyplot as plt\n",
    "import logging\n",
    "logging.basicConfig(format='%(levelname)s:%(message)s', level=logging.ERROR)\n",
    "from GraphRicciCurvature.OllivierRicci import OllivierRicci\n",
    "from GraphRicciCurvature.FormanRicci import FormanRicci\n",
    "from sklearn import preprocessing, metrics\n",
    "import community.community_louvain as community_louvain"
   ]
  },
  {
   "cell_type": "code",
   "execution_count": 11,
   "outputs": [],
   "source": [
    "# !pip install GraphRicciCurvature"
   ],
   "metadata": {
    "collapsed": false,
    "pycharm": {
     "name": "#%%\n"
    }
   }
  },
  {
   "cell_type": "code",
   "execution_count": 12,
   "outputs": [
    {
     "name": "stdout",
     "output_type": "stream",
     "text": [
      "0.5.3.1\n",
      "3.0\n"
     ]
    }
   ],
   "source": [
    "import GraphRicciCurvature\n",
    "print(GraphRicciCurvature.__version__)\n",
    "print(nx.__version__)"
   ],
   "metadata": {
    "collapsed": false,
    "pycharm": {
     "name": "#%%\n"
    }
   }
  },
  {
   "cell_type": "markdown",
   "source": [
    "# Load Sample Graph"
   ],
   "metadata": {
    "collapsed": false
   }
  },
  {
   "cell_type": "code",
   "execution_count": 13,
   "outputs": [
    {
     "name": "stdout",
     "output_type": "stream",
     "text": [
      "Graph named \"Zachary's Karate Club\" with 34 nodes and 78 edges\n"
     ]
    }
   ],
   "source": [
    "G = nx.karate_club_graph()\n",
    "for n1, n2, d in G.edges(data=True):\n",
    "    d.clear()\n",
    "print(G)"
   ],
   "metadata": {
    "collapsed": false,
    "pycharm": {
     "name": "#%%\n"
    }
   }
  },
  {
   "cell_type": "markdown",
   "source": [
    "# Discrete Ricci curvature"
   ],
   "metadata": {
    "collapsed": false,
    "pycharm": {
     "name": "#%% md\n"
    }
   }
  },
  {
   "cell_type": "code",
   "execution_count": 14,
   "outputs": [
    {
     "name": "stderr",
     "output_type": "stream",
     "text": [
      "INFO:Edge weight not detected in graph, use \"weight\" as default edge weight.\n"
     ]
    }
   ],
   "source": [
    "orc = OllivierRicci(G, alpha=0.5, verbose=\"TRACE\")"
   ],
   "metadata": {
    "collapsed": false,
    "pycharm": {
     "name": "#%%\n"
    }
   }
  },
  {
   "cell_type": "code",
   "execution_count": 15,
   "outputs": [
    {
     "name": "stderr",
     "output_type": "stream",
     "text": [
      "TRACE:Number of nodes: 34\n",
      "TRACE:Number of edges: 78\n",
      "TRACE:Start to compute all pair shortest path.\n",
      "TRACE:0.000000 secs for all pair by NetworKit.\n"
     ]
    },
    {
     "ename": "ValueError",
     "evalue": "cannot find context for 'fork'",
     "output_type": "error",
     "traceback": [
      "\u001B[1;31m---------------------------------------------------------------------------\u001B[0m",
      "\u001B[1;31mValueError\u001B[0m                                Traceback (most recent call last)",
      "Input \u001B[1;32mIn [15]\u001B[0m, in \u001B[0;36m<cell line: 1>\u001B[1;34m()\u001B[0m\n\u001B[1;32m----> 1\u001B[0m \u001B[43morc\u001B[49m\u001B[38;5;241;43m.\u001B[39;49m\u001B[43mcompute_ricci_curvature\u001B[49m\u001B[43m(\u001B[49m\u001B[43m)\u001B[49m\n\u001B[0;32m      2\u001B[0m G_orc \u001B[38;5;241m=\u001B[39m orc\u001B[38;5;241m.\u001B[39mG\u001B[38;5;241m.\u001B[39mcopy()\n",
      "File \u001B[1;32m~\\Anaconda3\\envs\\torch10\\lib\\site-packages\\GraphRicciCurvature\\OllivierRicci.py:761\u001B[0m, in \u001B[0;36mOllivierRicci.compute_ricci_curvature\u001B[1;34m(self)\u001B[0m\n\u001B[0;32m    741\u001B[0m \u001B[38;5;28;01mdef\u001B[39;00m \u001B[38;5;21mcompute_ricci_curvature\u001B[39m(\u001B[38;5;28mself\u001B[39m):\n\u001B[0;32m    742\u001B[0m \u001B[38;5;250m    \u001B[39m\u001B[38;5;124;03m\"\"\"Compute Ricci curvature of edges and nodes.\u001B[39;00m\n\u001B[0;32m    743\u001B[0m \u001B[38;5;124;03m    The node Ricci curvature is defined as the average of node's adjacency edges.\u001B[39;00m\n\u001B[0;32m    744\u001B[0m \n\u001B[1;32m   (...)\u001B[0m\n\u001B[0;32m    758\u001B[0m \u001B[38;5;124;03m        {'weight': 1.0, 'ricciCurvature': 0.11111111071683011}\u001B[39;00m\n\u001B[0;32m    759\u001B[0m \u001B[38;5;124;03m    \"\"\"\u001B[39;00m\n\u001B[1;32m--> 761\u001B[0m     \u001B[38;5;28mself\u001B[39m\u001B[38;5;241m.\u001B[39mG \u001B[38;5;241m=\u001B[39m \u001B[43m_compute_ricci_curvature\u001B[49m\u001B[43m(\u001B[49m\u001B[43mG\u001B[49m\u001B[38;5;241;43m=\u001B[39;49m\u001B[38;5;28;43mself\u001B[39;49m\u001B[38;5;241;43m.\u001B[39;49m\u001B[43mG\u001B[49m\u001B[43m,\u001B[49m\u001B[43m \u001B[49m\u001B[43mweight\u001B[49m\u001B[38;5;241;43m=\u001B[39;49m\u001B[38;5;28;43mself\u001B[39;49m\u001B[38;5;241;43m.\u001B[39;49m\u001B[43mweight\u001B[49m\u001B[43m,\u001B[49m\n\u001B[0;32m    762\u001B[0m \u001B[43m                                      \u001B[49m\u001B[43malpha\u001B[49m\u001B[38;5;241;43m=\u001B[39;49m\u001B[38;5;28;43mself\u001B[39;49m\u001B[38;5;241;43m.\u001B[39;49m\u001B[43malpha\u001B[49m\u001B[43m,\u001B[49m\u001B[43m \u001B[49m\u001B[43mmethod\u001B[49m\u001B[38;5;241;43m=\u001B[39;49m\u001B[38;5;28;43mself\u001B[39;49m\u001B[38;5;241;43m.\u001B[39;49m\u001B[43mmethod\u001B[49m\u001B[43m,\u001B[49m\n\u001B[0;32m    763\u001B[0m \u001B[43m                                      \u001B[49m\u001B[43mbase\u001B[49m\u001B[38;5;241;43m=\u001B[39;49m\u001B[38;5;28;43mself\u001B[39;49m\u001B[38;5;241;43m.\u001B[39;49m\u001B[43mbase\u001B[49m\u001B[43m,\u001B[49m\u001B[43m \u001B[49m\u001B[43mexp_power\u001B[49m\u001B[38;5;241;43m=\u001B[39;49m\u001B[38;5;28;43mself\u001B[39;49m\u001B[38;5;241;43m.\u001B[39;49m\u001B[43mexp_power\u001B[49m\u001B[43m,\u001B[49m\n\u001B[0;32m    764\u001B[0m \u001B[43m                                      \u001B[49m\u001B[43mproc\u001B[49m\u001B[38;5;241;43m=\u001B[39;49m\u001B[38;5;28;43mself\u001B[39;49m\u001B[38;5;241;43m.\u001B[39;49m\u001B[43mproc\u001B[49m\u001B[43m,\u001B[49m\u001B[43m \u001B[49m\u001B[43mchunksize\u001B[49m\u001B[38;5;241;43m=\u001B[39;49m\u001B[38;5;28;43mself\u001B[39;49m\u001B[38;5;241;43m.\u001B[39;49m\u001B[43mchunksize\u001B[49m\u001B[43m,\u001B[49m\u001B[43m \u001B[49m\u001B[43mcache_maxsize\u001B[49m\u001B[38;5;241;43m=\u001B[39;49m\u001B[38;5;28;43mself\u001B[39;49m\u001B[38;5;241;43m.\u001B[39;49m\u001B[43mcache_maxsize\u001B[49m\u001B[43m,\u001B[49m\n\u001B[0;32m    765\u001B[0m \u001B[43m                                      \u001B[49m\u001B[43mshortest_path\u001B[49m\u001B[38;5;241;43m=\u001B[39;49m\u001B[38;5;28;43mself\u001B[39;49m\u001B[38;5;241;43m.\u001B[39;49m\u001B[43mshortest_path\u001B[49m\u001B[43m,\u001B[49m\n\u001B[0;32m    766\u001B[0m \u001B[43m                                      \u001B[49m\u001B[43mnbr_topk\u001B[49m\u001B[38;5;241;43m=\u001B[39;49m\u001B[38;5;28;43mself\u001B[39;49m\u001B[38;5;241;43m.\u001B[39;49m\u001B[43mnbr_topk\u001B[49m\u001B[43m)\u001B[49m\n\u001B[0;32m    767\u001B[0m     \u001B[38;5;28;01mreturn\u001B[39;00m \u001B[38;5;28mself\u001B[39m\u001B[38;5;241m.\u001B[39mG\n",
      "File \u001B[1;32m~\\Anaconda3\\envs\\torch10\\lib\\site-packages\\GraphRicciCurvature\\OllivierRicci.py:504\u001B[0m, in \u001B[0;36m_compute_ricci_curvature\u001B[1;34m(G, weight, **kwargs)\u001B[0m\n\u001B[0;32m    485\u001B[0m \u001B[38;5;250m\u001B[39m\u001B[38;5;124;03m\"\"\"Compute Ricci curvature of edges and nodes.\u001B[39;00m\n\u001B[0;32m    486\u001B[0m \u001B[38;5;124;03mThe node Ricci curvature is defined as the average of node's adjacency edges.\u001B[39;00m\n\u001B[0;32m    487\u001B[0m \n\u001B[1;32m   (...)\u001B[0m\n\u001B[0;32m    500\u001B[0m \u001B[38;5;124;03m    A NetworkX graph with \"ricciCurvature\" on nodes and edges.\u001B[39;00m\n\u001B[0;32m    501\u001B[0m \u001B[38;5;124;03m\"\"\"\u001B[39;00m\n\u001B[0;32m    503\u001B[0m \u001B[38;5;66;03m# compute Ricci curvature for all edges\u001B[39;00m\n\u001B[1;32m--> 504\u001B[0m edge_ricci \u001B[38;5;241m=\u001B[39m _compute_ricci_curvature_edges(G, weight\u001B[38;5;241m=\u001B[39mweight, \u001B[38;5;241m*\u001B[39m\u001B[38;5;241m*\u001B[39mkwargs)\n\u001B[0;32m    506\u001B[0m \u001B[38;5;66;03m# Assign edge Ricci curvature from result to graph G\u001B[39;00m\n\u001B[0;32m    507\u001B[0m nx\u001B[38;5;241m.\u001B[39mset_edge_attributes(G, edge_ricci, \u001B[38;5;124m\"\u001B[39m\u001B[38;5;124mricciCurvature\u001B[39m\u001B[38;5;124m\"\u001B[39m)\n",
      "File \u001B[1;32m~\\Anaconda3\\envs\\torch10\\lib\\site-packages\\GraphRicciCurvature\\OllivierRicci.py:459\u001B[0m, in \u001B[0;36m_compute_ricci_curvature_edges\u001B[1;34m(G, weight, edge_list, alpha, method, base, exp_power, proc, chunksize, cache_maxsize, shortest_path, nbr_topk)\u001B[0m\n\u001B[0;32m    456\u001B[0m \u001B[38;5;66;03m# Start compute edge Ricci curvature\u001B[39;00m\n\u001B[0;32m    457\u001B[0m t0 \u001B[38;5;241m=\u001B[39m time\u001B[38;5;241m.\u001B[39mtime()\n\u001B[1;32m--> 459\u001B[0m \u001B[38;5;28;01mwith\u001B[39;00m \u001B[43mmp\u001B[49m\u001B[38;5;241;43m.\u001B[39;49m\u001B[43mget_context\u001B[49m\u001B[43m(\u001B[49m\u001B[38;5;124;43m'\u001B[39;49m\u001B[38;5;124;43mfork\u001B[39;49m\u001B[38;5;124;43m'\u001B[39;49m\u001B[43m)\u001B[49m\u001B[38;5;241m.\u001B[39mPool(processes\u001B[38;5;241m=\u001B[39m_proc) \u001B[38;5;28;01mas\u001B[39;00m pool:\n\u001B[0;32m    460\u001B[0m     \u001B[38;5;66;03m# WARNING: Now only fork works, spawn will hang.\u001B[39;00m\n\u001B[0;32m    461\u001B[0m \n\u001B[0;32m    462\u001B[0m     \u001B[38;5;66;03m# Decide chunksize following method in map_async\u001B[39;00m\n\u001B[0;32m    463\u001B[0m     \u001B[38;5;28;01mif\u001B[39;00m chunksize \u001B[38;5;129;01mis\u001B[39;00m \u001B[38;5;28;01mNone\u001B[39;00m:\n\u001B[0;32m    464\u001B[0m         chunksize, extra \u001B[38;5;241m=\u001B[39m \u001B[38;5;28mdivmod\u001B[39m(\u001B[38;5;28mlen\u001B[39m(args), proc \u001B[38;5;241m*\u001B[39m \u001B[38;5;241m4\u001B[39m)\n",
      "File \u001B[1;32m~\\Anaconda3\\envs\\torch10\\lib\\multiprocessing\\context.py:239\u001B[0m, in \u001B[0;36mDefaultContext.get_context\u001B[1;34m(self, method)\u001B[0m\n\u001B[0;32m    237\u001B[0m     \u001B[38;5;28;01mreturn\u001B[39;00m \u001B[38;5;28mself\u001B[39m\u001B[38;5;241m.\u001B[39m_actual_context\n\u001B[0;32m    238\u001B[0m \u001B[38;5;28;01melse\u001B[39;00m:\n\u001B[1;32m--> 239\u001B[0m     \u001B[38;5;28;01mreturn\u001B[39;00m \u001B[38;5;28;43msuper\u001B[39;49m\u001B[43m(\u001B[49m\u001B[43m)\u001B[49m\u001B[38;5;241;43m.\u001B[39;49m\u001B[43mget_context\u001B[49m\u001B[43m(\u001B[49m\u001B[43mmethod\u001B[49m\u001B[43m)\u001B[49m\n",
      "File \u001B[1;32m~\\Anaconda3\\envs\\torch10\\lib\\multiprocessing\\context.py:193\u001B[0m, in \u001B[0;36mBaseContext.get_context\u001B[1;34m(self, method)\u001B[0m\n\u001B[0;32m    191\u001B[0m     ctx \u001B[38;5;241m=\u001B[39m _concrete_contexts[method]\n\u001B[0;32m    192\u001B[0m \u001B[38;5;28;01mexcept\u001B[39;00m \u001B[38;5;167;01mKeyError\u001B[39;00m:\n\u001B[1;32m--> 193\u001B[0m     \u001B[38;5;28;01mraise\u001B[39;00m \u001B[38;5;167;01mValueError\u001B[39;00m(\u001B[38;5;124m'\u001B[39m\u001B[38;5;124mcannot find context for \u001B[39m\u001B[38;5;132;01m%r\u001B[39;00m\u001B[38;5;124m'\u001B[39m \u001B[38;5;241m%\u001B[39m method) \u001B[38;5;28;01mfrom\u001B[39;00m \u001B[38;5;28mNone\u001B[39m\n\u001B[0;32m    194\u001B[0m ctx\u001B[38;5;241m.\u001B[39m_check_available()\n\u001B[0;32m    195\u001B[0m \u001B[38;5;28;01mreturn\u001B[39;00m ctx\n",
      "\u001B[1;31mValueError\u001B[0m: cannot find context for 'fork'"
     ]
    }
   ],
   "source": [
    "orc.compute_ricci_curvature()\n",
    "G_orc = orc.G.copy()"
   ],
   "metadata": {
    "collapsed": false,
    "pycharm": {
     "name": "#%%\n"
    }
   }
  },
  {
   "cell_type": "code",
   "execution_count": null,
   "outputs": [],
   "source": [],
   "metadata": {
    "collapsed": false,
    "pycharm": {
     "name": "#%%\n"
    }
   }
  }
 ],
 "metadata": {
  "kernelspec": {
   "name": "torch10",
   "language": "python",
   "display_name": "torch10"
  },
  "language_info": {
   "codemirror_mode": {
    "name": "ipython",
    "version": 2
   },
   "file_extension": ".py",
   "mimetype": "text/x-python",
   "name": "python",
   "nbconvert_exporter": "python",
   "pygments_lexer": "ipython2",
   "version": "2.7.6"
  }
 },
 "nbformat": 4,
 "nbformat_minor": 0
}